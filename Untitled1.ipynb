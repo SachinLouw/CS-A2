{
  "nbformat": 4,
  "nbformat_minor": 0,
  "metadata": {
    "colab": {
      "name": "Untitled1.ipynb",
      "provenance": [],
      "collapsed_sections": [],
      "authorship_tag": "ABX9TyPBfuyQEE1rsAO8jnw5qLM4",
      "include_colab_link": true
    },
    "kernelspec": {
      "name": "python3",
      "display_name": "Python 3"
    }
  },
  "cells": [
    {
      "cell_type": "markdown",
      "metadata": {
        "id": "view-in-github",
        "colab_type": "text"
      },
      "source": [
        "<a href=\"https://colab.research.google.com/github/SachinLouw/CS-A2/blob/master/Untitled1.ipynb\" target=\"_parent\"><img src=\"https://colab.research.google.com/assets/colab-badge.svg\" alt=\"Open In Colab\"/></a>"
      ]
    },
    {
      "cell_type": "code",
      "metadata": {
        "id": "7UcRnYDxzuOL",
        "colab_type": "code",
        "colab": {
          "base_uri": "https://localhost:8080/",
          "height": 35
        },
        "outputId": "f51bc767-dd62-47a3-b49c-bc9b4ec9954a"
      },
      "source": [
        "class DataModel:\n",
        "  train = \"trainfile.csv\"\n",
        "  test = \"testfile.csv\"\n",
        "  \n",
        "  def __init__(self):\n",
        "    pass\n",
        "  \n",
        "  def clean_data(file):\n",
        "    \"remove unnecessary columns\"\n",
        "    my_file = open(file, 'r')\n",
        "    lines = my_file.readlines()\n",
        "\n",
        "    vals = ['dw_12','dw_13','psa_01','stv_01','car_01','lln_01'] # values corresponding to indexes to remove\n",
        "    indexes = [] # column indexes to remove\n",
        "\n",
        "    for line in lines[0]:\n",
        "      if line in vals:\n",
        "        indexes.append(line.indexOf())\n",
        "\n",
        "    for line in lines:\n",
        "      if line.indexOf() in indexes:\n",
        "        lines.remove(line)\n",
        "\n",
        "  def refine1(file):\n",
        "    '''\n",
        "    creating a column correspoding to members per household\n",
        "    we'll take the vals of col3/col2\n",
        "    '''\n",
        "\n",
        "  def refine2(file):\n",
        "    '''\n",
        "    in this method we isolate dwelling types most probable to not have water\n",
        "    in order words remove ones that's likely to have water similar to clean_data method\n",
        "    '''\n",
        "  \n",
        "  vals = ['dw_00','dw_02','dw_03','dw_04','dw_05','dw_09'] # values corresponding to indexes to remove\n",
        "\n",
        "\n",
        "  def correlate(file):\n",
        "    '''\n",
        "    okay this is where the magic happens\n",
        "    at this point I think it should be easier to see our determining factors\n",
        "    '''\n",
        "\n",
        "\n",
        "\n"
      ],
      "execution_count": 1,
      "outputs": [
        {
          "output_type": "stream",
          "text": [
            "ERROR! Session/line number was not unique in database. History logging moved to new session 60\n"
          ],
          "name": "stdout"
        }
      ]
    },
    {
      "cell_type": "code",
      "metadata": {
        "id": "qGCxdwC805XC",
        "colab_type": "code",
        "colab": {}
      },
      "source": [
        ""
      ],
      "execution_count": 0,
      "outputs": []
    }
  ]
}